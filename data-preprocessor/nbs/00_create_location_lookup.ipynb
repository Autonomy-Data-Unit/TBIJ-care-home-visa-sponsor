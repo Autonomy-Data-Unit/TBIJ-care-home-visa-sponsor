{
 "cells": [
  {
   "cell_type": "markdown",
   "metadata": {},
   "source": [
    "# Create location lookup\n",
    "\n",
    "> Fill in a module description here"
   ]
  },
  {
   "cell_type": "code",
   "execution_count": 1,
   "metadata": {},
   "outputs": [],
   "source": [
    "#| default_exp create_location_lookup"
   ]
  },
  {
   "cell_type": "code",
   "execution_count": 2,
   "metadata": {},
   "outputs": [],
   "source": [
    "#| hide\n",
    "from nbdev.showdoc import *"
   ]
  },
  {
   "cell_type": "code",
   "execution_count": 3,
   "metadata": {},
   "outputs": [],
   "source": [
    "#| hide\n",
    "import nbdev; nbdev.nbdev_export()"
   ]
  },
  {
   "cell_type": "code",
   "execution_count": 4,
   "metadata": {},
   "outputs": [],
   "source": [
    "#|export\n",
    "import warnings\n",
    "import pandas as pd\n",
    "from pandas.errors import DtypeWarning\n",
    "from pathlib import Path\n",
    "import json\n",
    "import numpy as np\n",
    "import time\n",
    "import redis\n",
    "from geopy.geocoders import Nominatim\n",
    "from openai import OpenAI\n",
    "import math\n",
    "import geopy\n",
    "import googlemaps\n",
    "import os\n",
    "\n",
    "from data_preprocessor import const"
   ]
  },
  {
   "cell_type": "markdown",
   "metadata": {},
   "source": [
    "Load lookup table if it already exists"
   ]
  },
  {
   "cell_type": "code",
   "execution_count": 5,
   "metadata": {},
   "outputs": [],
   "source": [
    "lon_lat_lookup_path = Path(const.output_path, \"lon_lat_lookup.json\")\n",
    "if lon_lat_lookup_path.is_file():\n",
    "    with open(lon_lat_lookup_path, \"r\") as f:\n",
    "        place_lon_lat_lookup = json.loads(f.read())\n",
    "else:\n",
    "    place_lon_lat_lookup = {}"
   ]
  },
  {
   "cell_type": "markdown",
   "metadata": {},
   "source": [
    "Create a lookup table of UK cities and towns to lon-lat"
   ]
  },
  {
   "cell_type": "code",
   "execution_count": 6,
   "metadata": {},
   "outputs": [],
   "source": [
    "#|exports\n",
    "\n",
    "df_worldcities = pd.read_csv(Path(const.data_path, 'worldcities.csv'))\n",
    "\n",
    "# Filter to UK\n",
    "df_worldcities = df_worldcities[df_worldcities['country'] == 'United Kingdom']\n",
    "\n",
    "# Add cities\n",
    "\n",
    "for i, row in df_worldcities.iterrows():\n",
    "    place = row['city'].strip().lower()\n",
    "    place_lon_lat_lookup[place] = { 'lat' : row['lat'], 'lng' : row['lng'] }\n",
    "    \n",
    "# Add administration areas, by averaging\n",
    "\n",
    "admin_lon_lats = {}\n",
    "for i, row in df_worldcities.iterrows():\n",
    "    if pd.isna(row['admin_name']):\n",
    "        continue\n",
    "\n",
    "    if (row['city'].strip().lower() == row['admin_name'].strip().lower()) or \\\n",
    "        (row['admin_name'].strip().lower() == f\"{row['city'].strip()}, City of\".strip().lower()):\n",
    "        place = row['city']\n",
    "    else:\n",
    "        place = f\"{row['city'].strip()}, {row['admin_name'].strip()}\".strip().lower()\n",
    "    \n",
    "    if place in place_lon_lat_lookup:\n",
    "        continue\n",
    "    if not place in admin_lon_lats:\n",
    "        admin_lon_lats[place] = []\n",
    "    admin_lon_lats[place].append( (row['lat'], row['lng']) )\n",
    "    \n",
    "# average the administration areas\n",
    "\n",
    "for k,vs in admin_lon_lats.items():\n",
    "    place_lon_lat_lookup[k] = {\n",
    "        'lat' : sum(map(lambda e: e[0], vs)) / len(vs),\n",
    "        'lng' : sum(map(lambda e: e[1], vs))  / len(vs),\n",
    "    }"
   ]
  },
  {
   "cell_type": "markdown",
   "metadata": {},
   "source": [
    "Convert locations in the scraped sponsor data to lon-lats as well"
   ]
  },
  {
   "cell_type": "code",
   "execution_count": 7,
   "metadata": {},
   "outputs": [
    {
     "data": {
      "text/html": [
       "<div>\n",
       "<style scoped>\n",
       "    .dataframe tbody tr th:only-of-type {\n",
       "        vertical-align: middle;\n",
       "    }\n",
       "\n",
       "    .dataframe tbody tr th {\n",
       "        vertical-align: top;\n",
       "    }\n",
       "\n",
       "    .dataframe thead th {\n",
       "        text-align: right;\n",
       "    }\n",
       "</style>\n",
       "<table border=\"1\" class=\"dataframe\">\n",
       "  <thead>\n",
       "    <tr style=\"text-align: right;\">\n",
       "      <th></th>\n",
       "      <th>Organisation Name</th>\n",
       "      <th>Town/City</th>\n",
       "      <th>County</th>\n",
       "      <th>Type &amp; Rating</th>\n",
       "      <th>Route</th>\n",
       "      <th>First appeared</th>\n",
       "      <th>Last appeared</th>\n",
       "      <th>Status</th>\n",
       "    </tr>\n",
       "  </thead>\n",
       "  <tbody>\n",
       "    <tr>\n",
       "      <th>0</th>\n",
       "      <td>(IECC Care) Independent Excel Care Consortium ...</td>\n",
       "      <td>Colchester</td>\n",
       "      <td>NaN</td>\n",
       "      <td>Worker (A rating)</td>\n",
       "      <td>Skilled Worker</td>\n",
       "      <td>2023-06-15</td>\n",
       "      <td>2024-03-01</td>\n",
       "      <td>Active</td>\n",
       "    </tr>\n",
       "    <tr>\n",
       "      <th>1</th>\n",
       "      <td>1 Oak Home Care</td>\n",
       "      <td>Sudbury</td>\n",
       "      <td>Suffolk</td>\n",
       "      <td>Worker (A rating)</td>\n",
       "      <td>Skilled Worker</td>\n",
       "      <td>2022-10-17</td>\n",
       "      <td>2024-03-01</td>\n",
       "      <td>Active</td>\n",
       "    </tr>\n",
       "    <tr>\n",
       "      <th>2</th>\n",
       "      <td>1st Class Care Services2 Ltd</td>\n",
       "      <td>Ledbury</td>\n",
       "      <td>NaN</td>\n",
       "      <td>Worker (A rating)</td>\n",
       "      <td>Skilled Worker</td>\n",
       "      <td>2023-03-06</td>\n",
       "      <td>2024-03-01</td>\n",
       "      <td>Active</td>\n",
       "    </tr>\n",
       "    <tr>\n",
       "      <th>3</th>\n",
       "      <td>1st Enable Ltd</td>\n",
       "      <td>Ellesmere Port</td>\n",
       "      <td>Cheshire</td>\n",
       "      <td>Worker (A rating)</td>\n",
       "      <td>Skilled Worker</td>\n",
       "      <td>2022-09-30</td>\n",
       "      <td>2024-03-01</td>\n",
       "      <td>Active</td>\n",
       "    </tr>\n",
       "    <tr>\n",
       "      <th>4</th>\n",
       "      <td>1st Homecare Solutions Limited</td>\n",
       "      <td>Leighton Buzzard</td>\n",
       "      <td>Bedfordshire</td>\n",
       "      <td>Worker (A rating)</td>\n",
       "      <td>Skilled Worker</td>\n",
       "      <td>2022-08-09</td>\n",
       "      <td>2024-03-01</td>\n",
       "      <td>Active</td>\n",
       "    </tr>\n",
       "  </tbody>\n",
       "</table>\n",
       "</div>"
      ],
      "text/plain": [
       "                                   Organisation Name         Town/City  \\\n",
       "0  (IECC Care) Independent Excel Care Consortium ...        Colchester   \n",
       "1                                    1 Oak Home Care           Sudbury   \n",
       "2                       1st Class Care Services2 Ltd           Ledbury   \n",
       "3                                     1st Enable Ltd    Ellesmere Port   \n",
       "4                     1st Homecare Solutions Limited  Leighton Buzzard   \n",
       "\n",
       "         County      Type & Rating           Route First appeared  \\\n",
       "0           NaN  Worker (A rating)  Skilled Worker     2023-06-15   \n",
       "1       Suffolk  Worker (A rating)  Skilled Worker     2022-10-17   \n",
       "2           NaN  Worker (A rating)  Skilled Worker     2023-03-06   \n",
       "3      Cheshire  Worker (A rating)  Skilled Worker     2022-09-30   \n",
       "4  Bedfordshire  Worker (A rating)  Skilled Worker     2022-08-09   \n",
       "\n",
       "  Last appeared  Status  \n",
       "0    2024-03-01  Active  \n",
       "1    2024-03-01  Active  \n",
       "2    2024-03-01  Active  \n",
       "3    2024-03-01  Active  \n",
       "4    2024-03-01  Active  "
      ]
     },
     "execution_count": 7,
     "metadata": {},
     "output_type": "execute_result"
    }
   ],
   "source": [
    "#|exports\n",
    "df_sponsors = pd.read_csv(Path(const.data_path, \"all-skilled-home-care-sponsors.csv\"))\n",
    "df_sponsors.head()"
   ]
  },
  {
   "cell_type": "code",
   "execution_count": 8,
   "metadata": {},
   "outputs": [],
   "source": [
    "#|exports\n",
    "client = OpenAI()\n",
    "\n",
    "def correct_placename(placename):\n",
    "    system_context = (\n",
    "        \"Given a mispelled version of a UK placename, you output either of the following: \"\n",
    "        \"If you think it is a mispelled version of a UK placename, you output the corrected version. \"\n",
    "        \"If you think string does not refer to a place, you output 'INVALID'.\"\n",
    "    )\n",
    "   \n",
    "    response = client.chat.completions.create(\n",
    "        model=\"gpt-4-turbo\",\n",
    "        messages=[\n",
    "            {\"role\": \"system\", \"content\": system_context},\n",
    "            {\"role\": \"user\", \"content\": placename},\n",
    "        ]\n",
    "    )\n",
    "    \n",
    "    return response.choices[0].message.content"
   ]
  },
  {
   "cell_type": "code",
   "execution_count": 9,
   "metadata": {},
   "outputs": [
    {
     "data": {
      "text/plain": [
       "'Stonehouse, Gloucestershire'"
      ]
     },
     "execution_count": 9,
     "metadata": {},
     "output_type": "execute_result"
    }
   ],
   "source": [
    "correct_placename(\"Stonehouse, Glos\")"
   ]
  },
  {
   "cell_type": "code",
   "execution_count": 10,
   "metadata": {},
   "outputs": [],
   "source": [
    "#|exports\n",
    "places_corrections_path = Path(const.output_path, \"places_corrections.json\")\n",
    "if places_corrections_path.is_file():\n",
    "    with open(lon_lat_lookup_path, \"r\") as f:\n",
    "        places_corrections = json.loads(f.read())\n",
    "else:\n",
    "    places_corrections = {}"
   ]
  },
  {
   "cell_type": "code",
   "execution_count": 11,
   "metadata": {},
   "outputs": [],
   "source": [
    "#|exports\n",
    "df_sponsors = pd.read_csv(Path(const.data_path, \"all-skilled-home-care-sponsors.csv\"))\n",
    "df_sponsors['Town/City'] = df_sponsors['Town/City'].str.lower().str.strip()\n",
    "\n",
    "places = []\n",
    "\n",
    "for i, row in df_sponsors.iterrows():\n",
    "    if pd.isna(row['County']):\n",
    "        places.append(row['Town/City'].lower().strip())\n",
    "    elif pd.isna(row['Town/City']):\n",
    "        places.append(row['County'].lower().strip())\n",
    "    else:\n",
    "        places.append(f\"{row['Town/City'].strip()}, {row['County'].strip()}\".lower())\n",
    "        \n",
    "places = set(places)"
   ]
  },
  {
   "cell_type": "code",
   "execution_count": 14,
   "metadata": {},
   "outputs": [
    {
     "name": "stdout",
     "output_type": "stream",
     "text": [
      "786/786\r"
     ]
    }
   ],
   "source": [
    "#|exports\n",
    "api_key = os.environ.get('GOOGLE_MAPS_API_KEY')\n",
    "gmaps = googlemaps.Client(key=api_key)\n",
    "\n",
    "places = places - set(place_lon_lat_lookup.keys())\n",
    "places = places - set(places_corrections.keys())\n",
    "\n",
    "for i, place in enumerate(places):\n",
    "    print(f\"{i+1}/{len(places)}\", end='\\r')\n",
    "    \n",
    "    success = False\n",
    "    while not success:\n",
    "        if place in place_lon_lat_lookup or place in places_corrections:\n",
    "            continue\n",
    "\n",
    "        result = gmaps.geocode(f\"{place.title()}, UK\")\n",
    "        location = result[0]['geometry']['location']\n",
    "        \n",
    "        if not location:\n",
    "            place_corrected = correct_placename(place).lower()\n",
    "            result = gmaps.geocode(f\"{place_corrected.title()}, UK\")\n",
    "            location = result[0]['geometry']['location']\n",
    "            print(f\"{place} -> {place_corrected}\")\n",
    "            if location: places_corrections[place] = place_corrected\n",
    "        else:\n",
    "            place_corrected = place\n",
    "        \n",
    "        if location:\n",
    "            place_lon_lat_lookup[place_corrected] = { 'lat' : location['lat'], 'lng' : location['lng'] }\n",
    "        else:\n",
    "            print(f\"  {place} still invalid\")\n",
    "            place_lon_lat_lookup[place_corrected] = \"invalid\"\n",
    "            \n",
    "        success = True"
   ]
  },
  {
   "cell_type": "code",
   "execution_count": 17,
   "metadata": {},
   "outputs": [
    {
     "data": {
      "text/plain": [
       "'\\ngeolocator = Nominatim(user_agent=\"Alex Guli\")\\n\\nplaces = places - set(place_lon_lat_lookup.keys())\\nplaces = places - set(places_corrections.keys())\\n\\nfor i, place in enumerate(places):\\n    print(f\"{i+1}/{len(places)}\", end=\\'\\r\\')\\n    \\n    success = False\\n    while not success:\\n        try:\\n            if place in place_lon_lat_lookup or place in places_corrections:\\n                continue\\n\\n            location = geolocator.geocode(f\"{place.title()}, UK\")\\n            \\n            if location is None:\\n                place_corrected = correct_placename(place).lower()\\n                location = geolocator.geocode(f\"{place_corrected.title()}, UK\")\\n                print(f\"{place} -> {place_corrected}\")\\n                if location is not None: places_corrections[place] = place_corrected\\n            else:\\n                place_corrected = place\\n            \\n            if location is not None:\\n                place_lon_lat_lookup[place_corrected] = { \\'lat\\' : location.latitude, \\'lng\\' : location.longitude }\\n            else:\\n                print(f\"  {place} still invalid\")\\n                place_lon_lat_lookup[place_corrected] = \"invalid\"\\n                \\n            success = True\\n        except geopy.exc.GeocoderUnavailable as e:\\n            print(\"\\nFailed API\")\\n            time.sleep(30)\\n'"
      ]
     },
     "execution_count": 17,
     "metadata": {},
     "output_type": "execute_result"
    }
   ],
   "source": [
    "#|exports\n",
    "\"\"\"\n",
    "geolocator = Nominatim(user_agent=\"Alex Guli\")\n",
    "\n",
    "places = places - set(place_lon_lat_lookup.keys())\n",
    "places = places - set(places_corrections.keys())\n",
    "\n",
    "for i, place in enumerate(places):\n",
    "    print(f\"{i+1}/{len(places)}\", end='\\r')\n",
    "    \n",
    "    success = False\n",
    "    while not success:\n",
    "        try:\n",
    "            if place in place_lon_lat_lookup or place in places_corrections:\n",
    "                continue\n",
    "\n",
    "            location = geolocator.geocode(f\"{place.title()}, UK\")\n",
    "            \n",
    "            if location is None:\n",
    "                place_corrected = correct_placename(place).lower()\n",
    "                location = geolocator.geocode(f\"{place_corrected.title()}, UK\")\n",
    "                print(f\"{place} -> {place_corrected}\")\n",
    "                if location is not None: places_corrections[place] = place_corrected\n",
    "            else:\n",
    "                place_corrected = place\n",
    "            \n",
    "            if location is not None:\n",
    "                place_lon_lat_lookup[place_corrected] = { 'lat' : location.latitude, 'lng' : location.longitude }\n",
    "            else:\n",
    "                print(f\"  {place} still invalid\")\n",
    "                place_lon_lat_lookup[place_corrected] = \"invalid\"\n",
    "                \n",
    "            success = True\n",
    "        except geopy.exc.GeocoderUnavailable as e:\n",
    "            print(\"\\nFailed API\")\n",
    "            time.sleep(30)\n",
    "\"\"\""
   ]
  },
  {
   "cell_type": "code",
   "execution_count": 18,
   "metadata": {},
   "outputs": [
    {
     "data": {
      "text/plain": [
       "'\\n\\n# Ignore DtypeWarning\\nwarnings.filterwarnings(\\'ignore\\', category=DtypeWarning)\\n\\n# Add postcodes\\nr = redis.Redis()\\npipe = r.pipeline()\\n\\npath_dfs = list(Path(const.data_path, \\'postcode_data\\').glob(\\'*.csv\\'))\\nfor i, path_df in enumerate(path_dfs):\\n    print(f\"Processing postcode data ({i+1}/{len(path_dfs)})\", end=\"\\r\")\\n    df_postcode = pd.read_csv(path_df)\\n    \\n    for j, row in df_postcode.iterrows():\\n        pipe.set(row[\\'pcd\\'], f\"{row[\\'lat\\']}, {row[\\'lng\\']}\")\\n        place_lon_lat_lookup[row[\\'pcd\\']] = { \\'lat\\' : row[\\'lat\\'], \\'lng\\' : row[\\'long\\'] }\\n        place_lon_lat_lookup[row[\\'pcd2\\']] = { \\'lat\\' : row[\\'lat\\'], \\'lng\\' : row[\\'long\\'] }\\n        place_lon_lat_lookup[row[\\'pcds\\']] = { \\'lat\\' : row[\\'lat\\'], \\'lng\\' : row[\\'long\\'] }\\n\\npipe.execute()\\n'"
      ]
     },
     "execution_count": 18,
     "metadata": {},
     "output_type": "execute_result"
    }
   ],
   "source": [
    "#|hide\n",
    "# Will not use postcodes\n",
    "\n",
    "\"\"\"\n",
    "\n",
    "# Ignore DtypeWarning\n",
    "warnings.filterwarnings('ignore', category=DtypeWarning)\n",
    "\n",
    "# Add postcodes\n",
    "r = redis.Redis()\n",
    "pipe = r.pipeline()\n",
    "\n",
    "path_dfs = list(Path(const.data_path, 'postcode_data').glob('*.csv'))\n",
    "for i, path_df in enumerate(path_dfs):\n",
    "    print(f\"Processing postcode data ({i+1}/{len(path_dfs)})\", end=\"\\r\")\n",
    "    df_postcode = pd.read_csv(path_df)\n",
    "    \n",
    "    for j, row in df_postcode.iterrows():\n",
    "        pipe.set(row['pcd'], f\"{row['lat']}, {row['lng']}\")\n",
    "        place_lon_lat_lookup[row['pcd']] = { 'lat' : row['lat'], 'lng' : row['long'] }\n",
    "        place_lon_lat_lookup[row['pcd2']] = { 'lat' : row['lat'], 'lng' : row['long'] }\n",
    "        place_lon_lat_lookup[row['pcds']] = { 'lat' : row['lat'], 'lng' : row['long'] }\n",
    "\n",
    "pipe.execute()\n",
    "\"\"\""
   ]
  },
  {
   "cell_type": "markdown",
   "metadata": {},
   "source": [
    "Save lookup table"
   ]
  },
  {
   "cell_type": "code",
   "execution_count": 19,
   "metadata": {},
   "outputs": [],
   "source": [
    "#|exports\n",
    "with open(lon_lat_lookup_path, 'w') as f:\n",
    "    json.dump(place_lon_lat_lookup, f)\n",
    "    \n",
    "with open(places_corrections_path, 'w') as f:\n",
    "    json.dump(places_corrections, f)"
   ]
  },
  {
   "cell_type": "code",
   "execution_count": 20,
   "metadata": {},
   "outputs": [],
   "source": [
    "#|exports\n",
    "def lat_lng_to_mercator(lat, lng):\n",
    "    r_major = 6378137.000\n",
    "    x = r_major * math.radians(lng)\n",
    "    scale = x/lng\n",
    "    y = 180.0/math.pi * math.log(math.tan(math.pi/4.0 + \n",
    "        lat * (math.pi/180.0)/2.0)) * scale\n",
    "    return (x, y)"
   ]
  },
  {
   "cell_type": "code",
   "execution_count": 21,
   "metadata": {},
   "outputs": [],
   "source": [
    "#|exports\n",
    "place_merc_lookup = { place : lat_lng_to_mercator(loc['lat'], loc['lng']) for place, loc in place_lon_lat_lookup.items() }    \n",
    "place_merc_lookup_path = Path(const.output_path, \"place_merc_lookup.json\")\n",
    "with open(place_merc_lookup_path, 'w') as f:\n",
    "    json.dump(place_merc_lookup, f)"
   ]
  },
  {
   "cell_type": "markdown",
   "metadata": {},
   "source": [
    "Update the sponsor data with location"
   ]
  },
  {
   "cell_type": "code",
   "execution_count": 22,
   "metadata": {},
   "outputs": [
    {
     "data": {
      "text/html": [
       "<div>\n",
       "<style scoped>\n",
       "    .dataframe tbody tr th:only-of-type {\n",
       "        vertical-align: middle;\n",
       "    }\n",
       "\n",
       "    .dataframe tbody tr th {\n",
       "        vertical-align: top;\n",
       "    }\n",
       "\n",
       "    .dataframe thead th {\n",
       "        text-align: right;\n",
       "    }\n",
       "</style>\n",
       "<table border=\"1\" class=\"dataframe\">\n",
       "  <thead>\n",
       "    <tr style=\"text-align: right;\">\n",
       "      <th></th>\n",
       "      <th>Organisation Name</th>\n",
       "      <th>Town/City</th>\n",
       "      <th>County</th>\n",
       "      <th>Type &amp; Rating</th>\n",
       "      <th>Route</th>\n",
       "      <th>First appeared</th>\n",
       "      <th>Last appeared</th>\n",
       "      <th>Status</th>\n",
       "    </tr>\n",
       "  </thead>\n",
       "  <tbody>\n",
       "    <tr>\n",
       "      <th>0</th>\n",
       "      <td>(IECC Care) Independent Excel Care Consortium ...</td>\n",
       "      <td>colchester</td>\n",
       "      <td>NaN</td>\n",
       "      <td>Worker (A rating)</td>\n",
       "      <td>Skilled Worker</td>\n",
       "      <td>2023-06-15</td>\n",
       "      <td>2024-03-01</td>\n",
       "      <td>Active</td>\n",
       "    </tr>\n",
       "    <tr>\n",
       "      <th>1</th>\n",
       "      <td>1 Oak Home Care</td>\n",
       "      <td>sudbury</td>\n",
       "      <td>Suffolk</td>\n",
       "      <td>Worker (A rating)</td>\n",
       "      <td>Skilled Worker</td>\n",
       "      <td>2022-10-17</td>\n",
       "      <td>2024-03-01</td>\n",
       "      <td>Active</td>\n",
       "    </tr>\n",
       "    <tr>\n",
       "      <th>2</th>\n",
       "      <td>1st Class Care Services2 Ltd</td>\n",
       "      <td>ledbury</td>\n",
       "      <td>NaN</td>\n",
       "      <td>Worker (A rating)</td>\n",
       "      <td>Skilled Worker</td>\n",
       "      <td>2023-03-06</td>\n",
       "      <td>2024-03-01</td>\n",
       "      <td>Active</td>\n",
       "    </tr>\n",
       "    <tr>\n",
       "      <th>3</th>\n",
       "      <td>1st Enable Ltd</td>\n",
       "      <td>ellesmere port</td>\n",
       "      <td>Cheshire</td>\n",
       "      <td>Worker (A rating)</td>\n",
       "      <td>Skilled Worker</td>\n",
       "      <td>2022-09-30</td>\n",
       "      <td>2024-03-01</td>\n",
       "      <td>Active</td>\n",
       "    </tr>\n",
       "    <tr>\n",
       "      <th>4</th>\n",
       "      <td>1st Homecare Solutions Limited</td>\n",
       "      <td>leighton buzzard</td>\n",
       "      <td>Bedfordshire</td>\n",
       "      <td>Worker (A rating)</td>\n",
       "      <td>Skilled Worker</td>\n",
       "      <td>2022-08-09</td>\n",
       "      <td>2024-03-01</td>\n",
       "      <td>Active</td>\n",
       "    </tr>\n",
       "  </tbody>\n",
       "</table>\n",
       "</div>"
      ],
      "text/plain": [
       "                                   Organisation Name         Town/City  \\\n",
       "0  (IECC Care) Independent Excel Care Consortium ...        colchester   \n",
       "1                                    1 Oak Home Care           sudbury   \n",
       "2                       1st Class Care Services2 Ltd           ledbury   \n",
       "3                                     1st Enable Ltd    ellesmere port   \n",
       "4                     1st Homecare Solutions Limited  leighton buzzard   \n",
       "\n",
       "         County      Type & Rating           Route First appeared  \\\n",
       "0           NaN  Worker (A rating)  Skilled Worker     2023-06-15   \n",
       "1       Suffolk  Worker (A rating)  Skilled Worker     2022-10-17   \n",
       "2           NaN  Worker (A rating)  Skilled Worker     2023-03-06   \n",
       "3      Cheshire  Worker (A rating)  Skilled Worker     2022-09-30   \n",
       "4  Bedfordshire  Worker (A rating)  Skilled Worker     2022-08-09   \n",
       "\n",
       "  Last appeared  Status  \n",
       "0    2024-03-01  Active  \n",
       "1    2024-03-01  Active  \n",
       "2    2024-03-01  Active  \n",
       "3    2024-03-01  Active  \n",
       "4    2024-03-01  Active  "
      ]
     },
     "execution_count": 22,
     "metadata": {},
     "output_type": "execute_result"
    }
   ],
   "source": [
    "#|exports\n",
    "df_sponsors = pd.read_csv(Path(const.data_path, \"current-skilled-home-care-sponsors.csv\"))\n",
    "df_sponsors['Town/City'] = df_sponsors['Town/City'].str.lower().str.strip()\n",
    "df_sponsors['Town/City'] = df_sponsors['Town/City'].replace(places_corrections)\n",
    "df_sponsors.head()"
   ]
  },
  {
   "cell_type": "code",
   "execution_count": 23,
   "metadata": {},
   "outputs": [],
   "source": [
    "#|exports\n",
    "xs, ys = [], []\n",
    "\n",
    "for i, row in df_sponsors.iterrows():\n",
    "    if pd.isna(row['County']):\n",
    "        place = row['Town/City'].lower().strip()\n",
    "    elif pd.isna(row['Town/City']):\n",
    "        place = row['County'].lower().strip()\n",
    "    else:\n",
    "        place = f\"{row['Town/City'].strip()}, {row['County'].strip()}\".lower()\n",
    "    \n",
    "    if place in place_lon_lat_lookup:\n",
    "        x, y = place_merc_lookup[place]\n",
    "        xs.append(x)\n",
    "        ys.append(y)\n",
    "    else:\n",
    "        print(place)\n",
    "        xs.append(-1)\n",
    "        ys.append(-1)"
   ]
  },
  {
   "cell_type": "code",
   "execution_count": 24,
   "metadata": {},
   "outputs": [],
   "source": [
    "#|exports\n",
    "df_sponsors['merc_x'] = xs\n",
    "df_sponsors['merc_y'] = ys\n",
    "\n",
    "df_sponsors.to_csv(Path(const.output_path, \"current-skilled-home-care-sponsors-with-loc.csv\"), index=False)"
   ]
  }
 ],
 "metadata": {
  "kernelspec": {
   "display_name": "python3",
   "language": "python",
   "name": "python3"
  },
  "language_info": {
   "codemirror_mode": {
    "name": "ipython",
    "version": 3
   },
   "file_extension": ".py",
   "mimetype": "text/x-python",
   "name": "python",
   "nbconvert_exporter": "python",
   "pygments_lexer": "ipython3",
   "version": "3.10.14"
  }
 },
 "nbformat": 4,
 "nbformat_minor": 4
}
